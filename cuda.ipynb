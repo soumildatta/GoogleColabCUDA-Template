{
  "nbformat": 4,
  "nbformat_minor": 2,
  "metadata": {
    "colab": {
      "provenance": []
    },
    "kernelspec": {
      "name": "python3",
      "display_name": "Python 3"
    },
    "language_info": {
      "name": "python"
    }
  },
  "cells": [
    {
      "cell_type": "code",
      "execution_count": null,
      "source": [
        "!pip install git+https://github.com/andreinechaev/nvcc4jupyter.git\n",
        "%load_ext nvcc_plugin"
      ],
      "outputs": [],
      "metadata": {
        "colab": {
          "base_uri": "https://localhost:8080/"
        },
        "id": "Tscfv4Fffji6",
        "outputId": "002e0b48-7dab-495e-edff-370a14c80eaa"
      }
    },
    {
      "cell_type": "code",
      "execution_count": null,
      "source": [
        "%%cu\n",
        "#include <iostream>\n",
        "using std::cout;\n",
        "using std::endl;\n",
        "#include <cuda_runtime.h>\n",
        "\n",
        "int main()\n",
        "{\n",
        "    cout << \"Hello World\" << endl;\n",
        "    return 0;\n",
        "}"
      ],
      "outputs": [],
      "metadata": {
        "colab": {
          "base_uri": "https://localhost:8080/"
        },
        "id": "UL8xD8wKfxAw",
        "outputId": "68b77beb-b69a-4bde-8174-6899ffaaef3e"
      }
    }
  ]
}